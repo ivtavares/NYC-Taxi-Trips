{
 "cells": [
  {
   "cell_type": "markdown",
   "metadata": {},
   "source": [
    "# NYC Taxy Trips - Analysis"
   ]
  },
  {
   "cell_type": "markdown",
   "metadata": {},
   "source": [
    "## Download files"
   ]
  },
  {
   "cell_type": "markdown",
   "metadata": {},
   "source": [
    "To start, let us download de files and start the analysis. We did not keep than inside the git repository, since they have 2Gb, which we can download from its source.\n",
    "\n",
    "Although there was no reason to keep the file's information in a separated json file for the current experiment, in a real world, parameters are used to be kept in a  separated file from code, which simplifies debug and deploy in a production enviroment."
   ]
  },
  {
   "cell_type": "code",
   "execution_count": 1,
   "metadata": {},
   "outputs": [
    {
     "name": "stdout",
     "output_type": "stream",
     "text": [
      "Download started: files/nyctaxi-trips-2009.json\n",
      "Download concluded: files/nyctaxi-trips-2009.json\n",
      "Download started: files/nyctaxi-trips-2010.json\n",
      "Download concluded: files/nyctaxi-trips-2010.json\n",
      "Download started: files/nyctaxi-trips-2011.json\n",
      "Download concluded: files/nyctaxi-trips-2011.json\n",
      "Download started: files/nyctaxi-trips-2012.json\n",
      "Download concluded: files/nyctaxi-trips-2012.json\n",
      "Download started: files/vendor-lookup.csv\n",
      "Download started: files/payment-lookup.csvDownload concluded: files/vendor-lookup.csv\n",
      "Download concluded: files/payment-lookup.csv\n",
      "\n"
     ]
    }
   ],
   "source": [
    "from urllib.request import urlretrieve\n",
    "import concurrent.futures \n",
    "import json\n",
    "import os\n",
    "\n",
    "if not(os.path.exists('files')):\n",
    "        os.mkdir('files')\n",
    "\n",
    "\n",
    "def download_files(params):    \n",
    "    file = 'files/'+params[0]\n",
    "    url = params[1]\n",
    "    print(f'Download started: {file}')\n",
    "#    urlretrieve(url, file)\n",
    "    print(f'Download concluded: {file}')\n",
    "\n",
    "\n",
    "with open('links.json') as f:\n",
    "    links_json = json.load(f)\n",
    "    links = [(x, y) for x,y in links_json.items()]\n",
    "    files = ['files/'+x for x in links_json]\n",
    "    \n",
    "    \n",
    "workers = len(links)    \n",
    "\n",
    "with concurrent.futures.ThreadPoolExecutor(workers) as executor:\n",
    "    executor.map(download_files, links)                                                                                                                                                                                                                                    "
   ]
  },
  {
   "cell_type": "markdown",
   "metadata": {},
   "source": [
    "## Load files inside Dataframes"
   ]
  },
  {
   "cell_type": "markdown",
   "metadata": {},
   "source": [
    "### NYC Taxi Trips"
   ]
  },
  {
   "cell_type": "markdown",
   "metadata": {},
   "source": [
    "It is import to notice thar the json files are not corrected configured as a single json. Instead, they are multiple json information that were likely to be sent by an API or similar application. Hence, we will need to iterate throught each file and extract the collected data."
   ]
  },
  {
   "cell_type": "code",
   "execution_count": 2,
   "metadata": {},
   "outputs": [],
   "source": [
    "import pandas as pd\n",
    "import numpy as np\n",
    "import matplotlib.pyplot as plt\n",
    "%matplotlib inline"
   ]
  },
  {
   "cell_type": "code",
   "execution_count": 3,
   "metadata": {},
   "outputs": [],
   "source": [
    "dtype = {'vendor_id':'string', 'pickup_datetime':'datetime64[ns, UTC]', 'dropoff_datetime':'datetime64[ns, UTC]', 'passenger_count':'int8', 'trip_distance':'float32', \n",
    "         'pickup_longitude':'float32', 'pickup_latitude':'float32', 'rate_code':'float32', 'store_and_fwd_flag':'float32', 'dropoff_longitude':'float32',\n",
    "         'dropoff_latitude':'float32', 'payment_type':'string', 'fare_amount':'float32', 'surcharge':'float32','tip_amount':'float32', 'tolls_amount':'float32', 'total_amount':'float32'}"
   ]
  },
  {
   "cell_type": "code",
   "execution_count": 4,
   "metadata": {},
   "outputs": [],
   "source": [
    "def return_nyc_taxi_json_as_dataframe(nyc_taxi_list):\n",
    "    length = 0\n",
    "    nytax_trips_dict = dict()\n",
    "    \n",
    "    for col in dtype:\n",
    "        nytax_trips_dict[col] = list()\n",
    "    \n",
    "    for nyc_taxi_file in nyc_taxi_list:\n",
    "        print(f\"Loading file: {nyc_taxi_file}\")\n",
    "        \n",
    "        with open(nyc_taxi_file) as f:\n",
    "            file_list = f.readlines()\n",
    "        \n",
    "    \n",
    "        length+= len(file_list)\n",
    "        for line in file_list:\n",
    "            line_dict = json.loads(line) \n",
    "            for name, value in line_dict.items():\n",
    "                nytax_trips_dict[name].append(value)\n",
    "        print(f\"File loaded: {nyc_taxi_file}\")\n",
    "    \n",
    "    print(f\"Number of expected rows: {length}\")\n",
    "    return pd.DataFrame.from_dict(nytax_trips_dict).astype(dtype)"
   ]
  },
  {
   "cell_type": "code",
   "execution_count": 5,
   "metadata": {},
   "outputs": [
    {
     "name": "stdout",
     "output_type": "stream",
     "text": [
      "Loading file: files/nyctaxi-trips-2009.json\n",
      "File loaded: files/nyctaxi-trips-2009.json\n",
      "Loading file: files/nyctaxi-trips-2010.json\n",
      "File loaded: files/nyctaxi-trips-2010.json\n",
      "Loading file: files/nyctaxi-trips-2011.json\n",
      "File loaded: files/nyctaxi-trips-2011.json\n",
      "Loading file: files/nyctaxi-trips-2012.json\n",
      "File loaded: files/nyctaxi-trips-2012.json\n",
      "Number of expected rows: 4000000\n",
      "Number of loaded rows: 4000000\n"
     ]
    }
   ],
   "source": [
    "json_files = files[:4]\n",
    "nyc_taxi_trips_df = return_nyc_taxi_json_as_dataframe(json_files)\n",
    "print(f\"Number of loaded rows: {nyc_taxi_trips_df.shape[0]}\")"
   ]
  },
  {
   "cell_type": "code",
   "execution_count": 6,
   "metadata": {},
   "outputs": [
    {
     "data": {
      "text/html": [
       "<div>\n",
       "<style scoped>\n",
       "    .dataframe tbody tr th:only-of-type {\n",
       "        vertical-align: middle;\n",
       "    }\n",
       "\n",
       "    .dataframe tbody tr th {\n",
       "        vertical-align: top;\n",
       "    }\n",
       "\n",
       "    .dataframe thead th {\n",
       "        text-align: right;\n",
       "    }\n",
       "</style>\n",
       "<table border=\"1\" class=\"dataframe\">\n",
       "  <thead>\n",
       "    <tr style=\"text-align: right;\">\n",
       "      <th></th>\n",
       "      <th>vendor_id</th>\n",
       "      <th>pickup_datetime</th>\n",
       "      <th>dropoff_datetime</th>\n",
       "      <th>passenger_count</th>\n",
       "      <th>trip_distance</th>\n",
       "      <th>pickup_longitude</th>\n",
       "      <th>pickup_latitude</th>\n",
       "      <th>rate_code</th>\n",
       "      <th>store_and_fwd_flag</th>\n",
       "      <th>dropoff_longitude</th>\n",
       "      <th>dropoff_latitude</th>\n",
       "      <th>payment_type</th>\n",
       "      <th>fare_amount</th>\n",
       "      <th>surcharge</th>\n",
       "      <th>tip_amount</th>\n",
       "      <th>tolls_amount</th>\n",
       "      <th>total_amount</th>\n",
       "    </tr>\n",
       "  </thead>\n",
       "  <tbody>\n",
       "    <tr>\n",
       "      <th>0</th>\n",
       "      <td>CMT</td>\n",
       "      <td>2009-04-21 18:51:11.767205+00:00</td>\n",
       "      <td>2009-04-21 18:57:09.433767+00:00</td>\n",
       "      <td>2</td>\n",
       "      <td>0.80</td>\n",
       "      <td>-74.004112</td>\n",
       "      <td>40.742950</td>\n",
       "      <td>NaN</td>\n",
       "      <td>NaN</td>\n",
       "      <td>-73.994713</td>\n",
       "      <td>40.747952</td>\n",
       "      <td>Cash</td>\n",
       "      <td>5.4</td>\n",
       "      <td>0.0</td>\n",
       "      <td>0.0</td>\n",
       "      <td>0.0</td>\n",
       "      <td>5.4</td>\n",
       "    </tr>\n",
       "    <tr>\n",
       "      <th>1</th>\n",
       "      <td>CMT</td>\n",
       "      <td>2009-01-13 07:40:07.639754+00:00</td>\n",
       "      <td>2009-01-13 07:50:36.386011+00:00</td>\n",
       "      <td>1</td>\n",
       "      <td>5.40</td>\n",
       "      <td>-73.996506</td>\n",
       "      <td>40.747784</td>\n",
       "      <td>NaN</td>\n",
       "      <td>NaN</td>\n",
       "      <td>-73.940453</td>\n",
       "      <td>40.792385</td>\n",
       "      <td>Cash</td>\n",
       "      <td>15.4</td>\n",
       "      <td>0.0</td>\n",
       "      <td>0.0</td>\n",
       "      <td>0.0</td>\n",
       "      <td>15.4</td>\n",
       "    </tr>\n",
       "    <tr>\n",
       "      <th>2</th>\n",
       "      <td>VTS</td>\n",
       "      <td>2009-01-06 19:30:44.142187+00:00</td>\n",
       "      <td>2009-01-06 19:43:09.908429+00:00</td>\n",
       "      <td>5</td>\n",
       "      <td>1.67</td>\n",
       "      <td>-73.951340</td>\n",
       "      <td>40.752071</td>\n",
       "      <td>NaN</td>\n",
       "      <td>NaN</td>\n",
       "      <td>-73.944534</td>\n",
       "      <td>40.768108</td>\n",
       "      <td>CASH</td>\n",
       "      <td>6.1</td>\n",
       "      <td>1.0</td>\n",
       "      <td>0.0</td>\n",
       "      <td>0.0</td>\n",
       "      <td>7.1</td>\n",
       "    </tr>\n",
       "    <tr>\n",
       "      <th>3</th>\n",
       "      <td>VTS</td>\n",
       "      <td>2009-09-24 08:28:09.004451+00:00</td>\n",
       "      <td>2009-09-24 08:41:56.739991+00:00</td>\n",
       "      <td>1</td>\n",
       "      <td>4.13</td>\n",
       "      <td>-74.001114</td>\n",
       "      <td>40.729130</td>\n",
       "      <td>NaN</td>\n",
       "      <td>NaN</td>\n",
       "      <td>-73.958122</td>\n",
       "      <td>40.721813</td>\n",
       "      <td>CASH</td>\n",
       "      <td>12.9</td>\n",
       "      <td>0.5</td>\n",
       "      <td>0.0</td>\n",
       "      <td>0.0</td>\n",
       "      <td>13.4</td>\n",
       "    </tr>\n",
       "    <tr>\n",
       "      <th>4</th>\n",
       "      <td>VTS</td>\n",
       "      <td>2009-10-29 05:50:39.214629+00:00</td>\n",
       "      <td>2009-10-29 05:57:22.880174+00:00</td>\n",
       "      <td>1</td>\n",
       "      <td>2.03</td>\n",
       "      <td>-73.976601</td>\n",
       "      <td>40.756874</td>\n",
       "      <td>NaN</td>\n",
       "      <td>NaN</td>\n",
       "      <td>-73.979759</td>\n",
       "      <td>40.776073</td>\n",
       "      <td>CASH</td>\n",
       "      <td>7.7</td>\n",
       "      <td>0.5</td>\n",
       "      <td>0.0</td>\n",
       "      <td>0.0</td>\n",
       "      <td>8.2</td>\n",
       "    </tr>\n",
       "  </tbody>\n",
       "</table>\n",
       "</div>"
      ],
      "text/plain": [
       "  vendor_id                  pickup_datetime                 dropoff_datetime  \\\n",
       "0       CMT 2009-04-21 18:51:11.767205+00:00 2009-04-21 18:57:09.433767+00:00   \n",
       "1       CMT 2009-01-13 07:40:07.639754+00:00 2009-01-13 07:50:36.386011+00:00   \n",
       "2       VTS 2009-01-06 19:30:44.142187+00:00 2009-01-06 19:43:09.908429+00:00   \n",
       "3       VTS 2009-09-24 08:28:09.004451+00:00 2009-09-24 08:41:56.739991+00:00   \n",
       "4       VTS 2009-10-29 05:50:39.214629+00:00 2009-10-29 05:57:22.880174+00:00   \n",
       "\n",
       "   passenger_count  trip_distance  pickup_longitude  pickup_latitude  \\\n",
       "0                2           0.80        -74.004112        40.742950   \n",
       "1                1           5.40        -73.996506        40.747784   \n",
       "2                5           1.67        -73.951340        40.752071   \n",
       "3                1           4.13        -74.001114        40.729130   \n",
       "4                1           2.03        -73.976601        40.756874   \n",
       "\n",
       "   rate_code  store_and_fwd_flag  dropoff_longitude  dropoff_latitude  \\\n",
       "0        NaN                 NaN         -73.994713         40.747952   \n",
       "1        NaN                 NaN         -73.940453         40.792385   \n",
       "2        NaN                 NaN         -73.944534         40.768108   \n",
       "3        NaN                 NaN         -73.958122         40.721813   \n",
       "4        NaN                 NaN         -73.979759         40.776073   \n",
       "\n",
       "  payment_type  fare_amount  surcharge  tip_amount  tolls_amount  total_amount  \n",
       "0         Cash          5.4        0.0         0.0           0.0           5.4  \n",
       "1         Cash         15.4        0.0         0.0           0.0          15.4  \n",
       "2         CASH          6.1        1.0         0.0           0.0           7.1  \n",
       "3         CASH         12.9        0.5         0.0           0.0          13.4  \n",
       "4         CASH          7.7        0.5         0.0           0.0           8.2  "
      ]
     },
     "execution_count": 6,
     "metadata": {},
     "output_type": "execute_result"
    }
   ],
   "source": [
    "nyc_taxi_trips_df.head()"
   ]
  },
  {
   "cell_type": "markdown",
   "metadata": {},
   "source": [
    "### Payment Lookup"
   ]
  },
  {
   "cell_type": "code",
   "execution_count": 7,
   "metadata": {},
   "outputs": [
    {
     "data": {
      "text/html": [
       "<div>\n",
       "<style scoped>\n",
       "    .dataframe tbody tr th:only-of-type {\n",
       "        vertical-align: middle;\n",
       "    }\n",
       "\n",
       "    .dataframe tbody tr th {\n",
       "        vertical-align: top;\n",
       "    }\n",
       "\n",
       "    .dataframe thead th {\n",
       "        text-align: right;\n",
       "    }\n",
       "</style>\n",
       "<table border=\"1\" class=\"dataframe\">\n",
       "  <thead>\n",
       "    <tr style=\"text-align: right;\">\n",
       "      <th></th>\n",
       "      <th>vendor_id</th>\n",
       "      <th>name</th>\n",
       "      <th>address</th>\n",
       "      <th>city</th>\n",
       "      <th>state</th>\n",
       "      <th>zip</th>\n",
       "      <th>country</th>\n",
       "      <th>contact</th>\n",
       "      <th>current</th>\n",
       "    </tr>\n",
       "  </thead>\n",
       "  <tbody>\n",
       "    <tr>\n",
       "      <th>0</th>\n",
       "      <td>CMT</td>\n",
       "      <td>Creative Mobile Technologies, LLC</td>\n",
       "      <td>950 4th Road Suite 78</td>\n",
       "      <td>Brooklyn</td>\n",
       "      <td>NY</td>\n",
       "      <td>11210</td>\n",
       "      <td>USA</td>\n",
       "      <td>contactCMT@gmail.com</td>\n",
       "      <td>Yes</td>\n",
       "    </tr>\n",
       "    <tr>\n",
       "      <th>1</th>\n",
       "      <td>VTS</td>\n",
       "      <td>VeriFone Inc</td>\n",
       "      <td>26 Summit St.</td>\n",
       "      <td>Flushing</td>\n",
       "      <td>NY</td>\n",
       "      <td>11354</td>\n",
       "      <td>USA</td>\n",
       "      <td>admin@vtstaxi.com</td>\n",
       "      <td>Yes</td>\n",
       "    </tr>\n",
       "    <tr>\n",
       "      <th>2</th>\n",
       "      <td>DDS</td>\n",
       "      <td>Dependable Driver Service, Inc</td>\n",
       "      <td>8554 North Homestead St.</td>\n",
       "      <td>Bronx</td>\n",
       "      <td>NY</td>\n",
       "      <td>10472</td>\n",
       "      <td>USA</td>\n",
       "      <td>9778896500</td>\n",
       "      <td>Yes</td>\n",
       "    </tr>\n",
       "    <tr>\n",
       "      <th>3</th>\n",
       "      <td>TS</td>\n",
       "      <td>Total Solutions Co</td>\n",
       "      <td>Five Boroughs Taxi Co.</td>\n",
       "      <td>Brooklyn</td>\n",
       "      <td>NY</td>\n",
       "      <td>11229</td>\n",
       "      <td>USA</td>\n",
       "      <td>mgmt@5btc.com</td>\n",
       "      <td>Yes</td>\n",
       "    </tr>\n",
       "    <tr>\n",
       "      <th>4</th>\n",
       "      <td>MT</td>\n",
       "      <td>Mega Taxi</td>\n",
       "      <td>4 East Jennings St.</td>\n",
       "      <td>Brooklyn</td>\n",
       "      <td>NY</td>\n",
       "      <td>11228</td>\n",
       "      <td>USA</td>\n",
       "      <td>contact@megataxico.com</td>\n",
       "      <td>No</td>\n",
       "    </tr>\n",
       "  </tbody>\n",
       "</table>\n",
       "</div>"
      ],
      "text/plain": [
       "  vendor_id                               name                   address  \\\n",
       "0       CMT  Creative Mobile Technologies, LLC     950 4th Road Suite 78   \n",
       "1       VTS                       VeriFone Inc             26 Summit St.   \n",
       "2       DDS     Dependable Driver Service, Inc  8554 North Homestead St.   \n",
       "3        TS                 Total Solutions Co    Five Boroughs Taxi Co.   \n",
       "4        MT                          Mega Taxi       4 East Jennings St.   \n",
       "\n",
       "       city state    zip country                 contact current  \n",
       "0  Brooklyn    NY  11210     USA    contactCMT@gmail.com     Yes  \n",
       "1  Flushing    NY  11354     USA       admin@vtstaxi.com     Yes  \n",
       "2     Bronx    NY  10472     USA              9778896500     Yes  \n",
       "3  Brooklyn    NY  11229     USA           mgmt@5btc.com     Yes  \n",
       "4  Brooklyn    NY  11228     USA  contact@megataxico.com      No  "
      ]
     },
     "execution_count": 7,
     "metadata": {},
     "output_type": "execute_result"
    }
   ],
   "source": [
    "payment_df = pd.read_csv(files[4])\n",
    "payment_df.head()"
   ]
  },
  {
   "cell_type": "markdown",
   "metadata": {},
   "source": [
    "### Vendor Lookup"
   ]
  },
  {
   "cell_type": "markdown",
   "metadata": {},
   "source": [
    "The vendor-lokup.csv is a file with inconsistent data that has no use to the current code. For this reason, we will ignore the useless information and load only what matters inside a dataframe  "
   ]
  },
  {
   "cell_type": "code",
   "execution_count": 8,
   "metadata": {},
   "outputs": [
    {
     "data": {
      "text/html": [
       "<div>\n",
       "<style scoped>\n",
       "    .dataframe tbody tr th:only-of-type {\n",
       "        vertical-align: middle;\n",
       "    }\n",
       "\n",
       "    .dataframe tbody tr th {\n",
       "        vertical-align: top;\n",
       "    }\n",
       "\n",
       "    .dataframe thead th {\n",
       "        text-align: right;\n",
       "    }\n",
       "</style>\n",
       "<table border=\"1\" class=\"dataframe\">\n",
       "  <thead>\n",
       "    <tr style=\"text-align: right;\">\n",
       "      <th></th>\n",
       "      <th>payment_type</th>\n",
       "      <th>payment_lookup</th>\n",
       "    </tr>\n",
       "  </thead>\n",
       "  <tbody>\n",
       "    <tr>\n",
       "      <th>0</th>\n",
       "      <td>Cas</td>\n",
       "      <td>Cash</td>\n",
       "    </tr>\n",
       "    <tr>\n",
       "      <th>1</th>\n",
       "      <td>CAS</td>\n",
       "      <td>Cash</td>\n",
       "    </tr>\n",
       "    <tr>\n",
       "      <th>2</th>\n",
       "      <td>Cre</td>\n",
       "      <td>Credit</td>\n",
       "    </tr>\n",
       "    <tr>\n",
       "      <th>3</th>\n",
       "      <td>CRE</td>\n",
       "      <td>Credit</td>\n",
       "    </tr>\n",
       "    <tr>\n",
       "      <th>4</th>\n",
       "      <td>No</td>\n",
       "      <td>No Charge</td>\n",
       "    </tr>\n",
       "  </tbody>\n",
       "</table>\n",
       "</div>"
      ],
      "text/plain": [
       "  payment_type payment_lookup\n",
       "0          Cas           Cash\n",
       "1          CAS           Cash\n",
       "2          Cre         Credit\n",
       "3          CRE         Credit\n",
       "4          No       No Charge"
      ]
     },
     "execution_count": 8,
     "metadata": {},
     "output_type": "execute_result"
    }
   ],
   "source": [
    "vendor_df = pd.read_csv(files[5], header=1,nrows=17)\n",
    "vendor_df.head()"
   ]
  },
  {
   "cell_type": "markdown",
   "metadata": {},
   "source": [
    "## 1. What is the average distance traveled by trips with a maximum of 2 passengers:"
   ]
  },
  {
   "cell_type": "markdown",
   "metadata": {},
   "source": [
    "First let us collect only the information need to solve that problem"
   ]
  },
  {
   "cell_type": "code",
   "execution_count": 9,
   "metadata": {},
   "outputs": [
    {
     "data": {
      "text/plain": [
       "count    3.319652e+06\n",
       "mean     2.662526e+00\n",
       "std      3.112605e+00\n",
       "min      0.000000e+00\n",
       "25%      1.000000e+00\n",
       "50%      1.680000e+00\n",
       "75%      3.000000e+00\n",
       "max      4.970000e+01\n",
       "Name: trip_distance, dtype: float64"
      ]
     },
     "execution_count": 9,
     "metadata": {},
     "output_type": "execute_result"
    }
   ],
   "source": [
    "trip_distance_max_2_df = nyc_taxi_trips_df[nyc_taxi_trips_df.passenger_count <= 2].trip_distance\n",
    "trip_distance_max_2_df.describe()"
   ]
  },
  {
   "cell_type": "markdown",
   "metadata": {},
   "source": [
    "We can see that the min value is 0. This situation might reflects someone who requests a trip but cancels it and the fare is charged. To find our answer this kind of trip is not valuable (since it will change the average distance and it will not represents the reality of trips that actually were made)"
   ]
  },
  {
   "cell_type": "code",
   "execution_count": 10,
   "metadata": {},
   "outputs": [
    {
     "data": {
      "text/plain": [
       "trip_distance\n",
       "False      31480\n",
       "True     3288172\n",
       "Name: trip_distance, dtype: int64"
      ]
     },
     "execution_count": 10,
     "metadata": {},
     "output_type": "execute_result"
    }
   ],
   "source": [
    "trip_distance_max_2_df.groupby(trip_distance_max_2_df!=0).count()"
   ]
  },
  {
   "cell_type": "code",
   "execution_count": 11,
   "metadata": {},
   "outputs": [
    {
     "name": "stdout",
     "output_type": "stream",
     "text": [
      "trip_distance\n",
      "Cancelled      31480\n",
      "Concluded    3288172\n",
      "Name: trip_distance, dtype: int64\n"
     ]
    },
    {
     "data": {
      "image/png": "[encoded data removed]",
      "text/plain": [
       "<Figure size 1152x288 with 1 Axes>"
      ]
     },
     "metadata": {
      "needs_background": "light"
     },
     "output_type": "display_data"
    }
   ],
   "source": [
    "print(trip_distance_max_2_df.groupby(trip_distance_max_2_df.map(lambda x: 'Cancelled' if x==0 else 'Concluded'))\n",
    "                          .count());\n",
    "(trip_distance_max_2_df.groupby(trip_distance_max_2_df.map(lambda x: 'Cancelled' if x==0 else 'Concluded'))\n",
    "                       .count()\n",
    "                       .plot(kind='bar',color=['red', 'blue'], figsize= (16,4)))\n",
    "\n",
    "plt.title('Number of trips Cancelled vs Concluded');\n",
    "plt.xlabel('Type of trip');\n",
    "plt.ylabel('Number of trips');\n",
    "plt.show()\n"
   ]
  },
  {
   "cell_type": "code",
   "execution_count": 12,
   "metadata": {},
   "outputs": [],
   "source": [
    "trip_distance_max_2_concluded_df = trip_distance_max_2_df[trip_distance_max_2_df!=0]"
   ]
  },
  {
   "cell_type": "markdown",
   "metadata": {},
   "source": [
    "We will plot te values now to see the distance frequecy that appears inside or data"
   ]
  },
  {
   "cell_type": "code",
   "execution_count": 13,
   "metadata": {},
   "outputs": [
    {
     "data": {
      "image/png": "[encoded data removed]",
      "text/plain": [
       "<Figure size 1152x432 with 1 Axes>"
      ]
     },
     "metadata": {
      "needs_background": "light"
     },
     "output_type": "display_data"
    }
   ],
   "source": [
    "trip_distance_max_2_concluded_df.plot(kind='hist', figsize= (16,6))\n",
    "plt.title('Frequency of distances');\n",
    "plt.xlabel('Distance');\n",
    "plt.ylabel('Number of trips');\n",
    "plt.show()"
   ]
  },
  {
   "cell_type": "markdown",
   "metadata": {},
   "source": [
    "It is clear for us that most trips has the distance of 5, but there are uncommons distances which will change the average value "
   ]
  },
  {
   "cell_type": "code",
   "execution_count": 14,
   "metadata": {},
   "outputs": [
    {
     "name": "stdout",
     "output_type": "stream",
     "text": [
      "Average distance with outliers: 2.6880171298980713\n"
     ]
    }
   ],
   "source": [
    "print(f\"Average distance with outliers: {trip_distance_max_2_concluded_df.mean()}\")"
   ]
  },
  {
   "cell_type": "markdown",
   "metadata": {},
   "source": [
    "Now we will remote the must unncommon values to create a more consistent average distance"
   ]
  },
  {
   "cell_type": "code",
   "execution_count": 15,
   "metadata": {},
   "outputs": [
    {
     "name": "stdout",
     "output_type": "stream",
     "text": [
      "Percentage of data with no outliers: 90.90230073122696%\n"
     ]
    }
   ],
   "source": [
    "Q1 = trip_distance_max_2_concluded_df.quantile(0.25)\n",
    "Q3 = trip_distance_max_2_concluded_df.quantile(0.75)\n",
    "IQR = Q3 - Q1\n",
    "\n",
    "no_outlier = trip_distance_max_2_concluded_df.map(lambda x: x > (Q1 - 1.5 * IQR) and x < (Q3 + 1.5 * IQR))\n",
    "trip_distance_max_2_concluded_no_outlier_df = trip_distance_max_2_concluded_df[no_outlier]\n",
    "perc_concluded = trip_distance_max_2_concluded_no_outlier_df.shape[0] / trip_distance_max_2_concluded_df.shape[0] * 100\n",
    "print(f\"Percentage of data with no outliers: {perc_concluded}%\")"
   ]
  },
  {
   "cell_type": "markdown",
   "metadata": {},
   "source": [
    "Since we have enough data to use we can keep going our analysis"
   ]
  },
  {
   "cell_type": "code",
   "execution_count": 16,
   "metadata": {},
   "outputs": [
    {
     "data": {
      "image/png": "[encoded data removed]",
      "text/plain": [
       "<Figure size 1152x432 with 1 Axes>"
      ]
     },
     "metadata": {
      "needs_background": "light"
     },
     "output_type": "display_data"
    }
   ],
   "source": [
    "trip_distance_max_2_concluded_no_outlier_df.plot(kind='hist', title='Frequency of distances with no outliers', figsize= (16,6))\n",
    "plt.xlabel('Distance');\n",
    "plt.ylabel('Number of trips');\n",
    "plt.show()"
   ]
  },
  {
   "cell_type": "markdown",
   "metadata": {},
   "source": [
    "Our graphic now has a structure  much more homogeneous and we can check our average distance"
   ]
  },
  {
   "cell_type": "code",
   "execution_count": 17,
   "metadata": {},
   "outputs": [
    {
     "data": {
      "text/plain": [
       "<matplotlib.axes._subplots.AxesSubplot at 0x7f7d26729a20>"
      ]
     },
     "execution_count": 17,
     "metadata": {},
     "output_type": "execute_result"
    },
    {
     "data": {
      "image/png": "[encoded data removed]",
      "text/plain": [
       "<Figure size 1152x432 with 1 Axes>"
      ]
     },
     "metadata": {
      "needs_background": "light"
     },
     "output_type": "display_data"
    }
   ],
   "source": [
    "trip_distance_max_2_concluded_no_outlier_df.plot(kind='box', title='Distances with no outliers', figsize= (16,6))"
   ]
  },
  {
   "cell_type": "code",
   "execution_count": 18,
   "metadata": {},
   "outputs": [
    {
     "name": "stdout",
     "output_type": "stream",
     "text": [
      "Average distance without outliers: 1.8825347423553467\n"
     ]
    }
   ],
   "source": [
    "print(f\"Average distance without outliers: {trip_distance_max_2_concluded_no_outlier_df.mean()}\")"
   ]
  },
  {
   "cell_type": "markdown",
   "metadata": {},
   "source": [
    "## 2. Which are the 3 biggest vendors based on the total amount of money raised:"
   ]
  },
  {
   "cell_type": "code",
   "execution_count": 19,
   "metadata": {},
   "outputs": [],
   "source": [
    "vendors_and_money_df =  nyc_taxi_trips_df[['vendor_id','total_amount']]"
   ]
  },
  {
   "cell_type": "code",
   "execution_count": 20,
   "metadata": {},
   "outputs": [
    {
     "data": {
      "image/png": "[encoded data removed]",
      "text/plain": [
       "<Figure size 1152x576 with 1 Axes>"
      ]
     },
     "metadata": {
      "needs_background": "light"
     },
     "output_type": "display_data"
    }
   ],
   "source": [
    "biggest_vendors_df = (vendors_and_money_df.groupby('vendor_id')\n",
    "                                          .sum()\n",
    "                                          .join(payment_df.set_index('vendor_id'), how='left')\n",
    "                                          .loc[:,['name','total_amount']]\n",
    "                                          .sort_values(by='total_amount', ascending=False)[:3])\n",
    "\n",
    "biggest_vendors_df.plot(x = 'name', kind='barh', figsize= (16,8), color=('red','blue', 'green'), legend=False)\n",
    "plt.title('3 Biggest vendors based on total amount of money')\n",
    "plt.ylabel('Vendors');\n",
    "plt.xlabel('Total amount of money raised');\n",
    "plt.show()"
   ]
  },
  {
   "cell_type": "code",
   "execution_count": 21,
   "metadata": {},
   "outputs": [
    {
     "data": {
      "text/html": [
       "<div>\n",
       "<style scoped>\n",
       "    .dataframe tbody tr th:only-of-type {\n",
       "        vertical-align: middle;\n",
       "    }\n",
       "\n",
       "    .dataframe tbody tr th {\n",
       "        vertical-align: top;\n",
       "    }\n",
       "\n",
       "    .dataframe thead th {\n",
       "        text-align: right;\n",
       "    }\n",
       "</style>\n",
       "<table border=\"1\" class=\"dataframe\">\n",
       "  <thead>\n",
       "    <tr style=\"text-align: right;\">\n",
       "      <th></th>\n",
       "      <th>name</th>\n",
       "      <th>total_amount</th>\n",
       "    </tr>\n",
       "    <tr>\n",
       "      <th>vendor_id</th>\n",
       "      <th></th>\n",
       "      <th></th>\n",
       "    </tr>\n",
       "  </thead>\n",
       "  <tbody>\n",
       "    <tr>\n",
       "      <th>CMT</th>\n",
       "      <td>Creative Mobile Technologies, LLC</td>\n",
       "      <td>19549084.00</td>\n",
       "    </tr>\n",
       "    <tr>\n",
       "      <th>VTS</th>\n",
       "      <td>VeriFone Inc</td>\n",
       "      <td>19043434.00</td>\n",
       "    </tr>\n",
       "    <tr>\n",
       "      <th>DDS</th>\n",
       "      <td>Dependable Driver Service, Inc</td>\n",
       "      <td>2714901.75</td>\n",
       "    </tr>\n",
       "  </tbody>\n",
       "</table>\n",
       "</div>"
      ],
      "text/plain": [
       "                                        name  total_amount\n",
       "vendor_id                                                 \n",
       "CMT        Creative Mobile Technologies, LLC   19549084.00\n",
       "VTS                             VeriFone Inc   19043434.00\n",
       "DDS           Dependable Driver Service, Inc    2714901.75"
      ]
     },
     "execution_count": 21,
     "metadata": {},
     "output_type": "execute_result"
    }
   ],
   "source": [
    "biggest_vendors_df"
   ]
  },
  {
   "cell_type": "markdown",
   "metadata": {},
   "source": [
    "We can see that the biggest three vendor are Creative Mobile Technologie, VeriFone and Dependable Driver Service"
   ]
  },
  {
   "cell_type": "markdown",
   "metadata": {},
   "source": [
    "## 3. Make a histogram of the monthly distribution over 4 years of rides paid with cash:"
   ]
  },
  {
   "cell_type": "code",
   "execution_count": 22,
   "metadata": {},
   "outputs": [
    {
     "data": {
      "image/png": "[encoded data removed]",
      "text/plain": [
       "<Figure size 1440x576 with 1 Axes>"
      ]
     },
     "metadata": {
      "needs_background": "light"
     },
     "output_type": "display_data"
    }
   ],
   "source": [
    "only_cash = nyc_taxi_trips_df.payment_type.str.lower() == 'cash'\n",
    "nyc_taxi_trips_df[only_cash].pickup_datetime.dt.month.hist(figsize= (20,8))\n",
    "\n",
    "plt.title('Monthly Distribution')\n",
    "plt.xlabel('Months');\n",
    "plt.ylabel('Frequency');\n",
    "plt.show()"
   ]
  },
  {
   "cell_type": "markdown",
   "metadata": {},
   "source": [
    "We can notice that there is a large number of trips during January and less in December. A theory is, since people visit their family during the holydays at the end of the year, there is a decrease in the population, which reduces the number of trips. Oppositely to it, in January, everyone is back and it is still Winter, which makes people desire to arrive at their destination faster. Besides it, according to [Tourist companies](https://www.nytimes.com/2019/01/16/nyregion/nyc-tourism-record.html), January is the best month to vist NY, increasing the number of tourists and the number of trips."
   ]
  },
  {
   "cell_type": "markdown",
   "metadata": {},
   "source": [
    "## 4. Make a time series chart computing the number of tips each day for the last 3 months of 2012:"
   ]
  },
  {
   "cell_type": "code",
   "execution_count": 23,
   "metadata": {},
   "outputs": [],
   "source": [
    "from datetime import date\n",
    "last_day=nyc_taxi_trips_df[nyc_taxi_trips_df.pickup_datetime.dt.year == 2012].pickup_datetime.dt.date.max()\n",
    "first_day = date(last_day.year, last_day.month-2, last_day.day)\n",
    "\n",
    "last_3_months_2012 = (nyc_taxi_trips_df.pickup_datetime.dt.date > first_day) & (nyc_taxi_trips_df.tip_amount > 0) \n",
    "trip_with_tips_3_mon_2012_df = nyc_taxi_trips_df[last_3_months_2012]\n",
    "\n",
    "tip_per_day_df = trip_with_tips_3_mon_2012_df.tip_amount.groupby(nyc_taxi_trips_df[last_3_months_2012].pickup_datetime.dt.date).count()"
   ]
  },
  {
   "cell_type": "code",
   "execution_count": 24,
   "metadata": {},
   "outputs": [
    {
     "data": {
      "image/png": "[encoded data removed]",
      "text/plain": [
       "<Figure size 1440x720 with 1 Axes>"
      ]
     },
     "metadata": {
      "needs_background": "light"
     },
     "output_type": "display_data"
    }
   ],
   "source": [
    "tip_per_day_df.plot(kind='line', figsize= (20,10), grid=True)\n",
    "\n",
    "plt.title('Number of tips per day between August/2012 and October/2012')\n",
    "plt.xlabel('Days');\n",
    "plt.ylabel('NUmber of tips');\n",
    "plt.show()"
   ]
  },
  {
   "cell_type": "markdown",
   "metadata": {},
   "source": [
    "## **Bonus items**"
   ]
  },
  {
   "cell_type": "markdown",
   "metadata": {},
   "source": [
    "## What is the average trip time on Saturdays and Sundays"
   ]
  },
  {
   "cell_type": "code",
   "execution_count": 25,
   "metadata": {},
   "outputs": [],
   "source": [
    "trip_on_wkends_df = nyc_taxi_trips_df.loc[nyc_taxi_trips_df.pickup_datetime.dt.dayofweek >=5, ['pickup_datetime', 'dropoff_datetime']]\n",
    "trip_on_wkends_df['trip_time'] = (trip_on_wkends_df.dropoff_datetime - trip_on_wkends_df.pickup_datetime).astype('int')\n",
    "trip_on_wkends_df['day_of_week'] = trip_on_wkends_df.pickup_datetime.dt.dayofweek.map(lambda x: 'Saturday' if x==5 else 'Sunday')"
   ]
  },
  {
   "cell_type": "code",
   "execution_count": 26,
   "metadata": {},
   "outputs": [
    {
     "data": {
      "text/plain": [
       "<matplotlib.axes._subplots.AxesSubplot at 0x7f7d1a09d860>"
      ]
     },
     "execution_count": 26,
     "metadata": {},
     "output_type": "execute_result"
    },
    {
     "data": {
      "image/png": "[encoded data removed]",
      "text/plain": [
       "<Figure size 1440x576 with 1 Axes>"
      ]
     },
     "metadata": {
      "needs_background": "light"
     },
     "output_type": "display_data"
    }
   ],
   "source": [
    "trip_on_wkends_df.trip_time.plot(kind='box', figsize=(20,8))"
   ]
  },
  {
   "cell_type": "code",
   "execution_count": 27,
   "metadata": {},
   "outputs": [
    {
     "data": {
      "image/png": "[encoded data removed]",
      "text/plain": [
       "<Figure size 1440x576 with 1 Axes>"
      ]
     },
     "metadata": {
      "needs_background": "light"
     },
     "output_type": "display_data"
    }
   ],
   "source": [
    "trip_on_wkends_df.trip_time.hist(figsize=(20,8))\n",
    "plt.title('Time in numeric')\n",
    "plt.show()"
   ]
  },
  {
   "cell_type": "markdown",
   "metadata": {},
   "source": [
    "Looking on the value we can see that there is a normal distribuction and we do not need to remove the outliers"
   ]
  },
  {
   "cell_type": "code",
   "execution_count": 28,
   "metadata": {},
   "outputs": [
    {
     "data": {
      "text/html": [
       "<div>\n",
       "<style scoped>\n",
       "    .dataframe tbody tr th:only-of-type {\n",
       "        vertical-align: middle;\n",
       "    }\n",
       "\n",
       "    .dataframe tbody tr th {\n",
       "        vertical-align: top;\n",
       "    }\n",
       "\n",
       "    .dataframe thead th {\n",
       "        text-align: right;\n",
       "    }\n",
       "</style>\n",
       "<table border=\"1\" class=\"dataframe\">\n",
       "  <thead>\n",
       "    <tr style=\"text-align: right;\">\n",
       "      <th></th>\n",
       "      <th>trip_time</th>\n",
       "    </tr>\n",
       "    <tr>\n",
       "      <th>day_of_week</th>\n",
       "      <th></th>\n",
       "    </tr>\n",
       "  </thead>\n",
       "  <tbody>\n",
       "    <tr>\n",
       "      <th>Saturday</th>\n",
       "      <td>00:08:44.939775</td>\n",
       "    </tr>\n",
       "    <tr>\n",
       "      <th>Sunday</th>\n",
       "      <td>00:08:44.641298</td>\n",
       "    </tr>\n",
       "  </tbody>\n",
       "</table>\n",
       "</div>"
      ],
      "text/plain": [
       "                  trip_time\n",
       "day_of_week                \n",
       "Saturday    00:08:44.939775\n",
       "Sunday      00:08:44.641298"
      ]
     },
     "execution_count": 28,
     "metadata": {},
     "output_type": "execute_result"
    }
   ],
   "source": [
    "trip_on_wkends_df.groupby('day_of_week').mean().astype('timedelta64[ns]')"
   ]
  },
  {
   "cell_type": "markdown",
   "metadata": {},
   "source": [
    "## Analyse the data to find and prove seasonality"
   ]
  },
  {
   "cell_type": "code",
   "execution_count": null,
   "metadata": {},
   "outputs": [],
   "source": [
    "from statsmodels.tsa.seasonal import seasonal_decompose\n",
    "decomp = seasonal_decompose(nyc_taxi_trips_df.groupby('pickup_day').total_amount.sum())"
   ]
  },
  {
   "cell_type": "markdown",
   "metadata": {},
   "source": [
    "To solve this problem I would group the values by week and use seasonal_decompose to decomp the time series in its components. With this information I would be capable of proof graphically seasonality"
   ]
  }
 ],
 "metadata": {
  "kernelspec": {
   "display_name": "Python 3",
   "language": "python",
   "name": "python3"
  },
  "language_info": {
   "codemirror_mode": {
    "name": "ipython",
    "version": 3
   },
   "file_extension": ".py",
   "mimetype": "text/x-python",
   "name": "python",
   "nbconvert_exporter": "python",
   "pygments_lexer": "ipython3",
   "version": "3.6.9"
  }
 },
 "nbformat": 4,
 "nbformat_minor": 4
}
